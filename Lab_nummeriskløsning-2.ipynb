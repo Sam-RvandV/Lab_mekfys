{
 "cells": [
  {
   "cell_type": "markdown",
   "id": "29b161a7",
   "metadata": {},
   "source": [
    "# Nummeriske løsninger Fysikk prosjekt\n",
    "\n",
    "### Av: Sahil, Jesper og Sam"
   ]
  },
  {
   "cell_type": "markdown",
   "id": "d6b47eca",
   "metadata": {},
   "source": [
    "## Oppgave 1\n",
    "\n",
    "---"
   ]
  },
  {
   "cell_type": "markdown",
   "id": "0ab4ec35",
   "metadata": {},
   "source": [
    "##### Importerer pylab, stort library med det meste av math, numpy og matplotlib"
   ]
  },
  {
   "cell_type": "code",
   "execution_count": 199,
   "id": "13087c2a",
   "metadata": {},
   "outputs": [],
   "source": [
    "from pylab import *"
   ]
  },
  {
   "cell_type": "markdown",
   "id": "d3bd39a5",
   "metadata": {},
   "source": [
    "#### Globale variabler"
   ]
  },
  {
   "cell_type": "code",
   "execution_count": 239,
   "id": "d4052edd",
   "metadata": {},
   "outputs": [],
   "source": [
    "g = 9.81\n",
    "r_halvkule = 0.51   # meter\n",
    "\n",
    "r_kule = 0.0215     # meter\n",
    "m_kule = 0.167      # kilogram\n",
    "\n",
    "r_sylinder_hul = 0.022\n",
    "m_sylinder_hul = 0.215\n",
    "\n",
    "r_sylinder_fast = 0.0215\n",
    "m_sylinder_fast = 1.795\n",
    "\n",
    "tN = 100000         # N tidssteg"
   ]
  },
  {
   "cell_type": "markdown",
   "id": "2d7f3513",
   "metadata": {},
   "source": [
    "#### Funksjon for eulers metode opg 1"
   ]
  },
  {
   "cell_type": "code",
   "execution_count": 240,
   "id": "fb79ed0b",
   "metadata": {},
   "outputs": [],
   "source": [
    "def euler_opg1(theta0,m,r,tol=0.01): # euler med sum av krefter betraktning\n",
    "    r += r_halvkule  # slik at lille r er (r+R)\n",
    "    \n",
    "    # tid\n",
    "    global t                    # til evt plotting \n",
    "    t_total = 7                # sekunder\n",
    "    t = linspace(0,t_total,tN)  # tidsdiskretisering (array)\n",
    "    dt = t[1]-t[0]              # tidssteg\n",
    "    \n",
    "    # arrayer for relevante verdier\n",
    "    theta = zeros(len(t))       # vinkel, theta per tid\n",
    "    omega = zeros(len(t))       # vinkelfart, omega per tid\n",
    "    alpha = zeros(len(t))       # vinkel aksellerasjon, (g*sin(theta0))/(R+r)\n",
    "    \n",
    "    # initialisering\n",
    "    theta[0] = theta0\n",
    "    omega[0] = 0\n",
    "    alpha[0] = (g*sin(theta0))/(r)  \n",
    "    \n",
    "    # kritisk vinkel\n",
    "    thetakrit = 0\n",
    "    \n",
    "    # mutasjoner av eulersmetode \n",
    "    for i in range(len(t)-1):\n",
    "        omega[i+1] = omega[i] + alpha[i] * dt\n",
    "        theta[i+1] = theta[i] + omega[i] * dt\n",
    "        alpha[i+1] = (g*sin(theta[i]))/(r)\n",
    "        #print(theta[i])\n",
    "        \n",
    "        v = sqrt((cos(theta0)-cos(theta[i]))*2*g*(r))           # (r+R)*omega[i], ## fart gitt ved theta/ omega\n",
    "        sumf = (-(v**2)/(r) + g*cos(theta[i]))    # summen av krefter\n",
    "        \n",
    "        if -tol < sumf < tol:      # sjekker om summ av krefter er nære null\n",
    "            thetakrit = theta[i]\n",
    "            break\n",
    "\n",
    "        \n",
    "    return thetakrit*180/pi"
   ]
  },
  {
   "cell_type": "markdown",
   "id": "39c0e79f",
   "metadata": {},
   "source": [
    "#### kjøring av kode"
   ]
  },
  {
   "cell_type": "code",
   "execution_count": 241,
   "id": "e4145943",
   "metadata": {
    "scrolled": false
   },
   "outputs": [
    {
     "name": "stdout",
     "output_type": "stream",
     "text": [
      "kule: 51.26562468593612\n",
      "sylinder: 51.258596712239196\n",
      "48.17269485434124\n"
     ]
    }
   ],
   "source": [
    "kule = euler_opg1(0.35325464060365225,m_kule,r_kule)\n",
    "print('kule:', kule)\n",
    "sylinder_hul = euler_opg1(0.35325464060365225,m_sylinder_hul,r_sylinder_hul)\n",
    "print('sylinder:',sylinder_hul)\n",
    "sylinder_fast = euler_opg1(0.001,m_sylinder_fast,r_sylinder_fast)\n",
    "print(sylinder_fast)\n"
   ]
  },
  {
   "cell_type": "markdown",
   "id": "406d5e80",
   "metadata": {},
   "source": [
    "## Oppgave 2\n",
    "\n",
    "---"
   ]
  },
  {
   "cell_type": "markdown",
   "id": "35782471",
   "metadata": {},
   "source": [
    "#### Globale variabler"
   ]
  },
  {
   "cell_type": "code",
   "execution_count": 242,
   "id": "61de66e7",
   "metadata": {},
   "outputs": [],
   "source": [
    "# c er fra I0 til objektene, f.eks I0_kule = 2/5mr**r, c = 2/5\n",
    "c_kule = 2/5\n",
    "c_sylinder_hul = 1\n",
    "c_sylinder_fast = 1/2"
   ]
  },
  {
   "cell_type": "markdown",
   "id": "9665bd99",
   "metadata": {},
   "source": [
    "#### Funksjon for eulers metode for opg 2"
   ]
  },
  {
   "cell_type": "code",
   "execution_count": 248,
   "id": "38c4604a",
   "metadata": {},
   "outputs": [],
   "source": [
    "def euler_opg2(theta0,m,r,c,tol=0.01): # euler med sum av krefter betraktning\n",
    "    r += r_halvkule     # slik at lille r er (r+R)\n",
    "    \n",
    "    # tid\n",
    "    global t                    # til evt plotting \n",
    "    t_total = 7                 # sekunder\n",
    "    t = linspace(0,t_total,tN)  # tidsdiskretisering (array)\n",
    "    dt = t[1]-t[0]              # tidssteg\n",
    "    \n",
    "    # arrayer for relevante verdier\n",
    "    theta = zeros(len(t))       # vinkel, theta per tid\n",
    "    omega = zeros(len(t))       # vinkelfart, omega per tid\n",
    "    alpha = zeros(len(t))           # vinkel aksellerasjon, (g*sin(theta0))/(R+r)\n",
    "    \n",
    "    # initialisering\n",
    "    theta[0] = theta0\n",
    "    omega[0] = 0\n",
    "    alpha[0] = (g*sin(theta0))/(r*(c+1)) \n",
    "    \n",
    "    # kritisk vinkel\n",
    "    thetakrit = 0\n",
    "\n",
    "    # mutasjoner av eulersmetode \n",
    "    for i in range(len(t)-1):\n",
    "        omega[i+1] = omega[i] + alpha[i] * dt\n",
    "        theta[i+1] = theta[i] + omega[i] * dt\n",
    "        alpha[i+1] = (g*sin(theta[i]))/(r*(c+1)) #(g*np.sin(theta[i])/(r))*(1+(c/(c+1))) #(g*sin(theta[i]))/(r)\n",
    "        \n",
    "        v = sqrt(((cos(theta[0])-cos(theta[i]))*2*g*r)/(c+1))           # (r+R)*omega[i], ## fart gitt ved theta/ omega\n",
    "        sumf = (-(v**2)/(r) + g*cos(theta[i]))      # summen av krefter\n",
    "        \n",
    "        if -tol < sumf < tol:      # sjekker om summ av krefter er nære null\n",
    "            thetakrit = theta[i]\n",
    "            break\n",
    "        \n",
    "    return thetakrit*180/pi,theta"
   ]
  },
  {
   "cell_type": "code",
   "execution_count": 244,
   "id": "11bdace8",
   "metadata": {
    "scrolled": false
   },
   "outputs": [
    {
     "name": "stdout",
     "output_type": "stream",
     "text": [
      "kule: 56.61853639025659\n",
      "sylinder: 62.10986664351402\n"
     ]
    }
   ],
   "source": [
    "kule = euler_opg2(20.8*pi/180,m_kule,r_kule,c_kule)\n",
    "print('kule:', kule[0])\n",
    "sylinder_hul = euler_opg2(20.8*pi/180,m_sylinder_hul,r_sylinder_hul,c_sylinder_hul)\n",
    "print('sylinder:',sylinder_hul[0])"
   ]
  },
  {
   "cell_type": "code",
   "execution_count": 259,
   "id": "6d1166c8",
   "metadata": {},
   "outputs": [],
   "source": [
    "def sammen_ligne(m,r,c,tol=0.01):\n",
    "    theta0 = linspace(0.0001,40*pi/180,100)\n",
    "    theta0x = linspace(0.0001,40,100)\n",
    "    theta_s1 = []\n",
    "    theta_s2 = []\n",
    "    \n",
    "    \n",
    "    for i in theta0:\n",
    "        thetakrit1 = euler_opg1(i,m,r)\n",
    "        thetakrit2 = euler_opg2(i,m,r,c)\n",
    "        theta_s1.append(thetakrit1)\n",
    "        theta_s2.append(thetakrit2[0])\n",
    "        \n",
    "    #theta_s1 = array(theta_s1)\n",
    "    #theta_s2 = array(theta_s2)\n",
    "    \n",
    "    plot(theta0x,theta_s1,label='oppgave 1')\n",
    "    plot(theta0x,theta_s2,label='oppgave 2')\n",
    "    xlabel('theta 0')\n",
    "    ylabel('theta slipp')\n",
    "    legend()\n",
    "    show()\n",
    "        "
   ]
  },
  {
   "cell_type": "code",
   "execution_count": 260,
   "id": "518a0169",
   "metadata": {},
   "outputs": [
    {
     "data": {
      "image/png": "[encoded data removed]",
      "text/plain": [
       "<Figure size 432x288 with 1 Axes>"
      ]
     },
     "metadata": {
      "needs_background": "light"
     },
     "output_type": "display_data"
    }
   ],
   "source": [
    "sammenligne = sammen_ligne(m_kule,r_kule,c_kule)\n"
   ]
  },
  {
   "cell_type": "markdown",
   "id": "0e505091",
   "metadata": {},
   "source": [
    "## Oppgave 3\n",
    "\n",
    "---"
   ]
  },
  {
   "cell_type": "markdown",
   "id": "39edc5cb",
   "metadata": {},
   "source": [
    "#### Globale varialbler"
   ]
  },
  {
   "cell_type": "code",
   "execution_count": 206,
   "id": "8cb76bfd",
   "metadata": {},
   "outputs": [],
   "source": [
    "my_s = 0.6     # intervall funnet på internett (0.5,0.6)\n",
    "my_k = 0.5     # intervall funnet på internett (0.4,0.6)"
   ]
  },
  {
   "cell_type": "code",
   "execution_count": 292,
   "id": "416f6514",
   "metadata": {},
   "outputs": [],
   "source": [
    "def euler_opg1_mf(theta0,m,r,c,tol=0.01): # euler med sum av krefter betraktning\n",
    "    r += r_halvkule  # slik at lille r er (r+R)\n",
    "    \n",
    "    # tid\n",
    "    global t                    # til evt plotting \n",
    "    t_total = 7                # sekunder\n",
    "    t = linspace(0,t_total,tN)  # tidsdiskretisering (array)\n",
    "    dt = t[1]-t[0]              # tidssteg\n",
    "    \n",
    "    # arrayer for relevante verdier\n",
    "    theta = zeros(len(t))       # vinkel, theta per tid\n",
    "    omega = zeros(len(t))       # vinkelfart, omega per tid\n",
    "    alpha = zeros(len(t))       # vinkel aksellerasjon, (g*sin(theta0))/(R+r)\n",
    "    \n",
    "    # initialisering\n",
    "    theta[0] = theta0\n",
    "    omega[0] = 0\n",
    "    alpha[0] = (g*sin(theta0))/(r*(c+1))  \n",
    "    \n",
    "    # kritisk vinkel\n",
    "    thetakrit = 0\n",
    "    \n",
    "    # mutasjoner av eulersmetode \n",
    "    for i in range(len(t)-1):\n",
    "        omega[i+1] = omega[i] + alpha[i] * dt\n",
    "        theta[i+1] = theta[i] + omega[i] * dt\n",
    "        alpha[i+1] = (g/(r))*(np.sin(theta[i])-my_k*np.cos(theta[i]))+my_k*omega[i]**2\n",
    "        #alpha[i+1] = (g*sin(theta[i])-my_k*(g*cos(theta[i])-omega[i]**2*r))/r\n",
    "        #alpha[i+1] = (g*sin(theta[i]))/(r)\n",
    "        #print(theta[i])\n",
    "        \n",
    "        v = sqrt((cos(theta0)-cos(theta[i]))*2*g*(r))           # (r+R)*omega[i], ## fart gitt ved theta/ omega\n",
    "        sumf = (-(v**2)/(r) + g*cos(theta[i]))    # summen av krefter\n",
    "        \n",
    "        if -tol < sumf < tol:      # sjekker om summ av krefter er nære null\n",
    "            thetakrit = theta[i]\n",
    "            break\n",
    "        #if omega[i]**2*r >= g*cos(theta[i]):\n",
    "            #thetakrit2 = theta[i]\n",
    "            #break\n",
    "\n",
    "        \n",
    "    return thetakrit*180/pi"
   ]
  },
  {
   "cell_type": "markdown",
   "id": "6809a2a8",
   "metadata": {},
   "source": [
    "#### Funksjon for eulers metode for opg 3"
   ]
  },
  {
   "cell_type": "code",
   "execution_count": 293,
   "id": "0a04c293",
   "metadata": {},
   "outputs": [],
   "source": [
    "def euler_3(theta0,m,r,c,tol=0.001):\n",
    "    r += r_halvkule \n",
    "    \n",
    "    ren_rulling = euler_opg2(theta0,m,r,c)\n",
    "    theta_l = ren_rulling[1]\n",
    "    #print(theta_l)\n",
    "    \n",
    "    theta_s = 0\n",
    "    \n",
    "    printOnce = True\n",
    "    \n",
    "    for j in range(len(theta_l)):\n",
    "        if my_s <= (c*sin(theta_l[j]))/(-2*cos(theta_l[0]+(c+3)*cos(theta_l[j]))): #(c*sin(theta_l[j]))/((c+3)*cos(theta_l[j])-2):\n",
    "            theta_s = theta_l[j]\n",
    "            #print(theta_s*180/pi)\n",
    "            if printOnce==True:\n",
    "                print(theta_s*180/pi);\n",
    "                printOnce=False\n",
    "            break\n",
    "            \n",
    "    ren_sluring = euler_opg1_mf(theta_s,m,r,c)\n",
    "    \n",
    "    return ren_sluring"
   ]
  },
  {
   "cell_type": "code",
   "execution_count": 298,
   "id": "dd6f8681",
   "metadata": {},
   "outputs": [
    {
     "name": "stdout",
     "output_type": "stream",
     "text": [
      "65.05200037019974\n",
      "73.64832338667942\n"
     ]
    }
   ],
   "source": [
    "print(euler_3(42.4*pi/180,m_sylinder_hul,r_sylinder_hul,c_sylinder_hul))"
   ]
  },
  {
   "cell_type": "code",
   "execution_count": null,
   "id": "5cd9417e",
   "metadata": {},
   "outputs": [],
   "source": []
  },
  {
   "cell_type": "code",
   "execution_count": 213,
   "id": "f1a6aacb",
   "metadata": {},
   "outputs": [],
   "source": []
  }
 ],
 "metadata": {
  "kernelspec": {
   "display_name": "Python 3",
   "language": "python",
   "name": "python3"
  },
  "language_info": {
   "codemirror_mode": {
    "name": "ipython",
    "version": 3
   },
   "file_extension": ".py",
   "mimetype": "text/x-python",
   "name": "python",
   "nbconvert_exporter": "python",
   "pygments_lexer": "ipython3",
   "version": "3.8.8"
  }
 },
 "nbformat": 4,
 "nbformat_minor": 5
}
