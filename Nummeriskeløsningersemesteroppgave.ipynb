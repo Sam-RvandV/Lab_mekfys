{
 "cells": [
  {
   "cell_type": "markdown",
   "id": "29b161a7",
   "metadata": {},
   "source": [
    "# Nummeriske løsninger Fysikk prosjekt\n",
    "\n",
    "### Av: Sahil, Jesper og Sam"
   ]
  },
  {
   "cell_type": "markdown",
   "id": "56ed7548",
   "metadata": {},
   "source": [
    "### Eulers metode\n",
    "\n",
    "Euelers metode har utagangspunkt i Newtons kvotient:\n",
    "\n",
    "$$f'(x) = \\frac{f(x+dx)-f(x)}{dx}$$\n",
    "\n",
    "For å løse differensial likninger må neste tilstanden i systemet utrykkes.\n",
    "\n",
    "da må settes $f(x+dx)$ alene.\n",
    "\n",
    "Da kommer vi fram til Eulers metode\n",
    "\n",
    "$$f(x+dx) = f(x) + f'(x) \\cdot dx$$\n",
    "\n",
    "Denne metoden brukes for å finne ut neste tilstand i et system ut i fra endringen i systemet.\n",
    "\n",
    "Eksempelhvis kan vi finne vinkelfart ($\\omega$) gitt at vi har startbetingelser og et utrykk for vinkelaksellerasjon ($\\alpha$):\n",
    "\n",
    "$$\\omega(t_{n+1}) = \\omega(t_n) + \\alpha'(t_n) \\cdot dt$$\n",
    "\n",
    "På samme måte kan vi finne et utrykk for vinkelen. ($\\theta$)\n",
    "\n",
    "Denne formuleringen av utrykket indikerer at neste tilstand i systemet er den forrige tilstandet addert med produktet av stigningen og forskjell i t.\n",
    "\n",
    "Med utgangspunkt i dette har vi skrevet våre nummeriske løsninger til oppgavene."
   ]
  },
  {
   "cell_type": "markdown",
   "id": "d6b47eca",
   "metadata": {},
   "source": [
    "## Oppgave 1\n",
    "\n",
    "---"
   ]
  },
  {
   "cell_type": "markdown",
   "id": "8f0164ce",
   "metadata": {},
   "source": [
    "#### Relevante uttrykk fra rapport"
   ]
  },
  {
   "cell_type": "markdown",
   "id": "c3d01549",
   "metadata": {},
   "source": [
    "(8) $$\\alpha(t) = g\\sin{\\theta(t)}/r$$\n",
    "\n",
    "(10) $$g\\cos{\\theta}-\\omega^2 r \\leq 0$$"
   ]
  },
  {
   "cell_type": "markdown",
   "id": "0ab4ec35",
   "metadata": {},
   "source": [
    "##### Importerer pylab, stort library med det meste av math, numpy og matplotlib"
   ]
  },
  {
   "cell_type": "code",
   "execution_count": 1,
   "id": "13087c2a",
   "metadata": {},
   "outputs": [],
   "source": [
    "from pylab import *  \n",
    "# pylab inneholder det meste av det man kan trenge noen gang i en oppgave som dette\n",
    "# gjennom importere alt slipper man det meste av referering til libraries mens man coder"
   ]
  },
  {
   "cell_type": "markdown",
   "id": "d3bd39a5",
   "metadata": {},
   "source": [
    "#### Globale variabler"
   ]
  },
  {
   "cell_type": "code",
   "execution_count": 2,
   "id": "d4052edd",
   "metadata": {},
   "outputs": [],
   "source": [
    "g = 9.81\n",
    "r_halvkule = 0.51   # meter\n",
    "\n",
    "r_kule = 0.0215     # meter\n",
    "m_kule = 0.167      # kilogram\n",
    "\n",
    "r_sylinder_hul = 0.022\n",
    "m_sylinder_hul = 0.215\n",
    "\n",
    "r_sylinder_fast = 0.0215\n",
    "m_sylinder_fast = 1.795\n",
    "\n",
    "tN = 100000         # N tidssteg"
   ]
  },
  {
   "cell_type": "markdown",
   "id": "2d7f3513",
   "metadata": {},
   "source": [
    "#### Funksjon for eulers metode opg 1"
   ]
  },
  {
   "cell_type": "code",
   "execution_count": 3,
   "id": "fb79ed0b",
   "metadata": {},
   "outputs": [],
   "source": [
    "def euler_opg1(theta0,m,r): # euler med sum av krefter betraktning\n",
    "    \"\"\"\n",
    "    theta0: start vinkel, for å initialisere eulers metode\n",
    "    m: masse til objekt\n",
    "    r: radius til objekt\n",
    "    \"\"\"\n",
    "    r += r_halvkule  # slik at lille r er (r+R)\n",
    "    \n",
    "    # tid\n",
    "    global t                    # til evt plotting \n",
    "    t_total = 7                # sekunder\n",
    "    t = linspace(0,t_total,tN)  # tidsdiskretisering (array)\n",
    "    dt = t[1]-t[0]              # tidssteg\n",
    "    \n",
    "    # arrayer for relevante verdier\n",
    "    theta = zeros(len(t))       # vinkel, theta per tid\n",
    "    omega = zeros(len(t))       # vinkelfart, omega per tid\n",
    "    alpha = zeros(len(t))       # vinkel aksellerasjon, (g*sin(theta0))/(R+r)\n",
    "    \n",
    "    # initialisering\n",
    "    theta[0] = theta0\n",
    "    omega[0] = 0\n",
    "    alpha[0] = (g*sin(theta0))/(r)  # alpha gitt ved likning (8)\n",
    "    \n",
    "    # kritisk vinkel\n",
    "    thetakrit = 0\n",
    "    \n",
    "    # mutasjoner av eulersmetode \n",
    "    for i in range(len(t)-1):   # -1 for å unngå indekseringsfeil\n",
    "        omega[i+1] = omega[i] + alpha[i] * dt # eulersmetode, fyller inn neste verdi i array basert på de foregående\n",
    "        theta[i+1] = theta[i] + omega[i] * dt\n",
    "        alpha[i+1] = (g*sin(theta[i]))/(r) # alpha gitt ved likning (8)\n",
    "        \n",
    "        if -omega[i]**2*r+g*cos(theta[i])<=0: # betingelse gitt ved likning (10)\n",
    "            \n",
    "            return theta[i]*180/pi # returnerer kritisk vinker gitt i grader"
   ]
  },
  {
   "cell_type": "markdown",
   "id": "39c0e79f",
   "metadata": {},
   "source": [
    "#### eksempel kjøring av kode"
   ]
  },
  {
   "cell_type": "code",
   "execution_count": 4,
   "id": "e4145943",
   "metadata": {
    "scrolled": false
   },
   "outputs": [
    {
     "name": "stdout",
     "output_type": "stream",
     "text": [
      "kule: 51.29287373252918\n",
      "sylinder: 51.285828780694956\n",
      "48.200823815034234\n"
     ]
    }
   ],
   "source": [
    "kule = euler_opg1(0.35325464060365225,m_kule,r_kule)\n",
    "print('kule:', kule)\n",
    "\n",
    "sylinder_hul = euler_opg1(0.35325464060365225,m_sylinder_hul,r_sylinder_hul)\n",
    "print('sylinder:',sylinder_hul)\n",
    "\n",
    "sylinder_fast = euler_opg1(0.001,m_sylinder_fast,r_sylinder_fast)\n",
    "print(sylinder_fast)\n"
   ]
  },
  {
   "cell_type": "markdown",
   "id": "406d5e80",
   "metadata": {},
   "source": [
    "## Oppgave 2\n",
    "\n",
    "---"
   ]
  },
  {
   "cell_type": "markdown",
   "id": "3db2e8ac",
   "metadata": {},
   "source": [
    "#### Relevante uttrykk fra rapport"
   ]
  },
  {
   "cell_type": "markdown",
   "id": "a41d0094",
   "metadata": {},
   "source": [
    "(10) $$g\\cos{\\theta}-\\omega^2 r \\leq 0$$\n",
    "\n",
    "(16) $$\\alpha =\\frac{g\\sin{\\theta}}{r(c+1)}$$\n",
    "\n"
   ]
  },
  {
   "cell_type": "markdown",
   "id": "35782471",
   "metadata": {},
   "source": [
    "#### Globale variabler"
   ]
  },
  {
   "cell_type": "code",
   "execution_count": 5,
   "id": "61de66e7",
   "metadata": {},
   "outputs": [],
   "source": [
    "# c er fra I0 til objektene, f.eks I0_kule = 2/5mr**r, c = 2/5\n",
    "c_kule = 2/5\n",
    "c_sylinder_hul = 1\n",
    "c_sylinder_fast = 1/2"
   ]
  },
  {
   "cell_type": "markdown",
   "id": "9665bd99",
   "metadata": {},
   "source": [
    "#### Funksjon for eulers metode for opg 2"
   ]
  },
  {
   "cell_type": "code",
   "execution_count": 6,
   "id": "38c4604a",
   "metadata": {},
   "outputs": [],
   "source": [
    "def euler_opg2(theta0,m,r,c): # euler med sum av krefter betraktning\n",
    "    \"\"\"\n",
    "    theta0: start vinkel, for å initialisere eulers metode\n",
    "    m: masse til objekt\n",
    "    r: radius til objekt\n",
    "    c: c til objekt, utrykker bla annet deriemoment I0\n",
    "    \"\"\"\n",
    "    \n",
    "    r += r_halvkule     # slik at lille r er (r+R)\n",
    "    \n",
    "    # tid\n",
    "    global t                    # til evt plotting \n",
    "    t_total = 7                 # sekunder\n",
    "    t = linspace(0,t_total,tN)  # tidsdiskretisering (array)\n",
    "    dt = t[1]-t[0]              # tidssteg\n",
    "    \n",
    "    # arrayer for relevante verdier\n",
    "    theta = zeros(len(t))       # vinkel, theta per tid\n",
    "    omega = zeros(len(t))       # vinkelfart, omega per tid\n",
    "    alpha = zeros(len(t))           # vinkel aksellerasjon, (g*sin(theta0))/(R+r)\n",
    "    \n",
    "    # initialisering\n",
    "    theta[0] = theta0\n",
    "    omega[0] = 0\n",
    "    alpha[0] = (g*sin(theta0))/(r*(c+1)) # alpha gitt ved likning (16)\n",
    "    \n",
    "    # kritisk vinkel\n",
    "    thetakrit = 0\n",
    "\n",
    "    # mutasjoner av eulersmetode \n",
    "    for i in range(len(t)-1):\n",
    "        omega[i+1] = omega[i] + alpha[i] * dt\n",
    "        theta[i+1] = theta[i] + omega[i] * dt\n",
    "        alpha[i+1] = (g*sin(theta[i]))/(r*(c+1)) # alpha gitt ved likning (16)\n",
    "        \n",
    "        \n",
    "        if -omega[i]**2*r+g*cos(theta[i])<=0: # betingelse gitt ved likning (10)\n",
    "            \n",
    "            return theta[i]*180/pi\n",
    "        \n",
    "    return thetakrit*180/pi # returnerer kritisk vinker gitt i grader"
   ]
  },
  {
   "cell_type": "markdown",
   "id": "1d76d12f",
   "metadata": {},
   "source": [
    "#### Eksempel kjøring av kode"
   ]
  },
  {
   "cell_type": "code",
   "execution_count": 7,
   "id": "11bdace8",
   "metadata": {
    "scrolled": false
   },
   "outputs": [
    {
     "name": "stdout",
     "output_type": "stream",
     "text": [
      "kule: 56.6440832606659\n",
      "sylinder: 62.145182983630185\n"
     ]
    }
   ],
   "source": [
    "kule = euler_opg2(20.8*pi/180,m_kule,r_kule,c_kule)\n",
    "print('kule:', kule)\n",
    "\n",
    "sylinder_hul = euler_opg2(20.8*pi/180,m_sylinder_hul,r_sylinder_hul,c_sylinder_hul)\n",
    "print('sylinder:',sylinder_hul)"
   ]
  },
  {
   "cell_type": "markdown",
   "id": "0e505091",
   "metadata": {},
   "source": [
    "## Oppgave 3\n",
    "\n",
    "---"
   ]
  },
  {
   "cell_type": "markdown",
   "id": "9edf112d",
   "metadata": {},
   "source": [
    "#### Relevante uttrykk fra rapport"
   ]
  },
  {
   "cell_type": "markdown",
   "id": "ffe35fd8",
   "metadata": {},
   "source": [
    "(10) $$g\\cos{\\theta}-\\omega^2 r \\leq 0$$\n",
    "\n",
    "(16) $$\\alpha =\\frac{g\\sin{\\theta}}{r(c+1)}$$\n",
    "\n",
    "(20) $$\\mu_{s} = \\frac{c\\ \\sin{\\theta}}{-2\\cos{\\theta}+(c+1)\\cos{\\theta_{slipp}}}$$\n",
    "\n",
    "(22) $$\\alpha = \\frac{d\\omega}{dt} = \\frac{g}{r}(\\sin{\\theta}-\\mu_{k}\\cos{\\theta})+\\mu_{k}\\omega^2$$"
   ]
  },
  {
   "cell_type": "markdown",
   "id": "39edc5cb",
   "metadata": {},
   "source": [
    "#### Globale varialbler"
   ]
  },
  {
   "cell_type": "code",
   "execution_count": 14,
   "id": "8cb76bfd",
   "metadata": {},
   "outputs": [],
   "source": [
    "my_s = 0.6     # intervall funnet på internett (0.5,0.6) se referanse i rapport\n",
    "my_k = 0.5     # intervall funnet på internett (0.4,0.6)"
   ]
  },
  {
   "cell_type": "markdown",
   "id": "6809a2a8",
   "metadata": {},
   "source": [
    "#### Funksjon for eulers metode for opg 3"
   ]
  },
  {
   "cell_type": "code",
   "execution_count": 15,
   "id": "f1a6aacb",
   "metadata": {},
   "outputs": [],
   "source": [
    "def euler_opg3(theta0,m,r,c):\n",
    "    \"\"\"\n",
    "    theta0: start vinkel, for å initialisere eulers metode\n",
    "    m: masse til objekt\n",
    "    r: radius til objekt\n",
    "    c: c til objekt, utrykker bla annet deriemoment I0\n",
    "    \"\"\"\n",
    "    \n",
    "    r += r_halvkule     # slik at lille r er (r+R)\n",
    "    \n",
    "    # tid\n",
    "    global t                    # til evt plotting \n",
    "    t_total = 7                 # sekunder\n",
    "    t = linspace(0,t_total,tN)  # tidsdiskretisering (array)\n",
    "    dt = t[1]-t[0]              # tidssteg\n",
    "    \n",
    "    # arrayer for relevante verdier\n",
    "    theta = zeros(len(t))       # vinkel, theta per tid\n",
    "    omega = zeros(len(t))       # vinkelfart, omega per tid\n",
    "    alpha = zeros(len(t))        # vinkel aksellerasjon, (g*sin(theta0))/(R+r)\n",
    "    \n",
    "    # initialisering\n",
    "    theta[0] = theta0\n",
    "    omega[0] = 0\n",
    "    alpha[0] = (g*sin(theta0))/(r*(c+1)) # ved t=0 kan ren rulling antas, alpha gitt ved likning (16)\n",
    "    \n",
    "    # kritisk vinkel\n",
    "    thetakrit = 0\n",
    "\n",
    "       \n",
    "    # mutasjoner av eulersmetode \n",
    "    for i in range(len(t)-1):\n",
    "        omega[i+1] = omega[i] + alpha[i] * dt\n",
    "        theta[i+1] = theta[i] + omega[i] * dt\n",
    "        \n",
    "        if my_s > (c*sin(theta[i]))/(-2*cos(theta[0])+(c+3)*cos(theta[i])): # tester med likning (20), for når ren rulling avslutter\n",
    "            alpha[i+1] = (g*sin(theta[i]))/(r*(c+1))       #da har vi ren rulling og samme alpha som i opp2, likning (16)\n",
    "        \n",
    "        else: # når ren rulling er avsluttet stemmer else;\n",
    "            alpha[i+1] = (g/(r))*(sin(theta[i])-my_k*cos(theta[i]))+my_k*omega[i]**2 # da vil alpha være gitt ved likning (22)\n",
    "    \n",
    "            \n",
    "        \n",
    "        if -omega[i]**2*r+g*cos(theta[i])<=0: # betingelse gitt ved likning (10)\n",
    "            \n",
    "            return theta[i]*180/pi; # returnerer kritisk vinker gitt i grader\n"
   ]
  },
  {
   "cell_type": "code",
   "execution_count": 10,
   "id": "a0ef58c8",
   "metadata": {},
   "outputs": [
    {
     "name": "stdout",
     "output_type": "stream",
     "text": [
      "53.499330588225526\n",
      "55.82528102654765\n"
     ]
    }
   ],
   "source": [
    "print(euler_opg3(0.0001,m_sylinder_fast,r_sylinder_fast,c_sylinder_fast))\n",
    "print(euler_opg3(0.0001,m_sylinder_hul,r_sylinder_hul,c_sylinder_hul))"
   ]
  },
  {
   "cell_type": "markdown",
   "id": "fd0506f8",
   "metadata": {},
   "source": [
    "### Sammenlignings plotting"
   ]
  },
  {
   "cell_type": "code",
   "execution_count": 11,
   "id": "30ccad1b",
   "metadata": {},
   "outputs": [],
   "source": [
    "# målte verdier som kan scatteres i plott\n",
    "målte0_k = [0,28.1] \n",
    "målte_k = [60.3,66.8]\n",
    "\n",
    "målte0_hs = [0,20.8,42.4]\n",
    "målte_hs = [57.2,64.2,68.5]\n",
    "\n",
    "målte0_fs = [0,20,42.4]\n",
    "målte_fs = [61.6,62.1,67.8]"
   ]
  },
  {
   "cell_type": "code",
   "execution_count": 12,
   "id": "92eebc7f",
   "metadata": {},
   "outputs": [],
   "source": [
    "def sammen_ligne(m,r,c,objekt,målte0,målte):\n",
    "    \"\"\"\n",
    "    m: masse til objekt\n",
    "    r: radius til objekt\n",
    "    c: c til objekt, utrykker bla annet deriemoment I0\n",
    "    objekt: objekttype til tittel av plott\n",
    "    målte0 : start vinkel målt\n",
    "    målte: slipp vinkel målt\n",
    "    \"\"\"\n",
    "    theta0 = linspace(0.0001,45*pi/180,100) # theta null verdier som kan tas inn i funksjonene i radianer\n",
    "    theta0x = linspace(0.0001,45,100) # theta null i grader som kan plottes med\n",
    "    theta_s1 = [] # theta_s - theta slipp\n",
    "    theta_s2 = []\n",
    "    theta_s3 = []\n",
    "    \n",
    " \n",
    "    \n",
    "    for i in theta0: # loop for å passere de forskjellige start vinklene\n",
    "        thetakrit1 = euler_opg1(i,m,r)\n",
    "        thetakrit2 = euler_opg2(i,m,r,c)\n",
    "        thetakrit3 = euler_opg3(i,m,r,c)\n",
    "        theta_s1.append(thetakrit1) # appender slipp vinklene for plotting\n",
    "        theta_s2.append(thetakrit2)\n",
    "        theta_s3.append(thetakrit3)\n",
    "        \n",
    "    # plotting av theta start som x akse og theta slipp som y akse \n",
    "    plot(theta0x,theta_s1,label='oppgave 1')\n",
    "    plot(theta0x,theta_s2,label='oppgave 2')\n",
    "    plot(theta0x,theta_s3,label='oppgave 3')\n",
    "    scatter(målte0,målte,label='exprimentelt',c='r',marker='+')\n",
    "    title(f'Slipp vinkel gitt ved start vinkel, {objekt} (nummerisk)')\n",
    "    xlabel('theta start')\n",
    "    ylabel('theta slipp')\n",
    "    legend()\n",
    "    show()"
   ]
  },
  {
   "cell_type": "code",
   "execution_count": 13,
   "id": "b63f01c6",
   "metadata": {},
   "outputs": [
    {
     "data": {
      "image/png": "[encoded data removed]",
      "text/plain": [
       "<Figure size 432x288 with 1 Axes>"
      ]
     },
     "metadata": {
      "needs_background": "light"
     },
     "output_type": "display_data"
    },
    {
     "data": {
      "image/png": "[encoded data removed]",
      "text/plain": [
       "<Figure size 432x288 with 1 Axes>"
      ]
     },
     "metadata": {
      "needs_background": "light"
     },
     "output_type": "display_data"
    },
    {
     "data": {
      "image/png": "[encoded data removed]",
      "text/plain": [
       "<Figure size 432x288 with 1 Axes>"
      ]
     },
     "metadata": {
      "needs_background": "light"
     },
     "output_type": "display_data"
    }
   ],
   "source": [
    "sammenligne = sammen_ligne(m_kule,r_kule,c_kule,'kule',målte0_k,målte_k)\n",
    "sammenligne = sammen_ligne(m_sylinder_hul,r_sylinder_hul,c_sylinder_hul,'hul sylinder',målte0_hs,målte_hs)\n",
    "sammenligne = sammen_ligne(m_sylinder_fast,r_sylinder_fast,c_sylinder_fast,'kompakt sylinder',målte0_fs,målte_fs)"
   ]
  }
 ],
 "metadata": {
  "kernelspec": {
   "display_name": "Python 3",
   "language": "python",
   "name": "python3"
  },
  "language_info": {
   "codemirror_mode": {
    "name": "ipython",
    "version": 3
   },
   "file_extension": ".py",
   "mimetype": "text/x-python",
   "name": "python",
   "nbconvert_exporter": "python",
   "pygments_lexer": "ipython3",
   "version": "3.8.8"
  }
 },
 "nbformat": 4,
 "nbformat_minor": 5
}
